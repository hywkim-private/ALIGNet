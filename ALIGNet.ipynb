{
  "nbformat": 4,
  "nbformat_minor": 0,
  "metadata": {
    "accelerator": "GPU",
    "colab": {
      "name": "ALIGNet.ipynb",
      "provenance": [],
      "collapsed_sections": [],
      "mount_file_id": "1WU6qZ7lfLvnng2qPoAd_8WW0Ss-kPZYR",
      "authorship_tag": "ABX9TyMZMoKAyMlkhu86uAslj/9j",
      "include_colab_link": true
    },
    "kernelspec": {
      "display_name": "Python 3",
      "name": "python3"
    },
    "language_info": {
      "name": "python"
    }
  },
  "cells": [
    {
      "cell_type": "markdown",
      "metadata": {
        "id": "view-in-github",
        "colab_type": "text"
      },
      "source": [
        "<a href=\"https://colab.research.google.com/github/hywkim-private/ALIGNet/blob/main/ALIGNet.ipynb\" target=\"_parent\"><img src=\"https://colab.research.google.com/assets/colab-badge.svg\" alt=\"Open In Colab\"/></a>"
      ]
    },
    {
      "cell_type": "markdown",
      "metadata": {
        "id": "Y1kF0ls6PYFs"
      },
      "source": [
        ""
      ]
    },
    {
      "cell_type": "code",
      "metadata": {
        "id": "38ACV0dRR6ZY"
      },
      "source": [
        "import torch \n",
        "import torchvision\n",
        "import numpy as np\n",
        "import pandas as pd\n",
        "import matplotlib\n",
        "import matplotlib.pyplot as plt\n",
        "import torch.nn as nn\n",
        "import torch.nn.functional as F\n",
        "import torch.optim as optim\n",
        "import cv2, wget\n",
        "from zipfile import ZipFile\n",
        "import h5py \n",
        "\n",
        "from pathlib import Path\n",
        "from torchvision.datasets import MNIST\n",
        "from torchvision.transforms import ToTensor\n",
        "from torchvision.utils import make_grid\n",
        "from torch.utils.data import Dataset, DataLoader, TensorDataset\n",
        "from torch.utils.data import random_split\n",
        "from torchsummary import summary\n"
      ],
      "execution_count": null,
      "outputs": []
    },
    {
      "cell_type": "code",
      "metadata": {
        "colab": {
          "base_uri": "https://localhost:8080/"
        },
        "id": "YE_4RbsNbPn0",
        "outputId": "05a4ea87-64db-4b46-c9b0-2f73fbb35875"
      },
      "source": [
        "pip install wget"
      ],
      "execution_count": null,
      "outputs": [
        {
          "output_type": "stream",
          "text": [
            "Collecting wget\n",
            "  Downloading wget-3.2.zip (10 kB)\n",
            "Building wheels for collected packages: wget\n",
            "  Building wheel for wget (setup.py) ... \u001b[?25l\u001b[?25hdone\n",
            "  Created wheel for wget: filename=wget-3.2-py3-none-any.whl size=9672 sha256=507cd3fafb70d23e87670ade96af4074d199bb622bbfd2bb538cc99fb48ac6aa\n",
            "  Stored in directory: /root/.cache/pip/wheels/a1/b6/7c/0e63e34eb06634181c63adacca38b79ff8f35c37e3c13e3c02\n",
            "Successfully built wget\n",
            "Installing collected packages: wget\n",
            "Successfully installed wget-3.2\n"
          ],
          "name": "stdout"
        }
      ]
    },
    {
      "cell_type": "code",
      "metadata": {
        "id": "agTFmcKMS2Vv"
      },
      "source": [
        "#define hyper parameters \n",
        "USE_CUDA = torch.cuda.is_available()\n",
        "DEVICE = torch.device(\"cuda\" if USE_CUDA else \"cpu\")\n",
        "EPOCHS = 5000\n",
        "BATCH_SIZE = 10\n",
        "\n",
        "TARGET_PROPORTION = 0.5\n",
        "TARGET_PROPORTION_VAL = 0.5\n",
        "TARGET_PROPORTION_TEST = 0.5\n",
        "VAL_SIZE = 20\n",
        "N_CLASS = 10\n",
        "TEST_SIZE = 10\n",
        "IMAGE_SIZE =128\n",
        "\n",
        "#parameters for mask operation\n",
        "MASK_SIZE = 60\n",
        "MASK_STRIDE = 20\n",
        "\n",
        "#parameters for the warp-field/grid\n",
        "GRID_SIZE = 8\n",
        "\n",
        "\n",
        "FILE_PATH = '../data/h5files'"
      ],
      "execution_count": null,
      "outputs": []
    },
    {
      "cell_type": "code",
      "metadata": {
        "id": "jinX4zWjbOoM"
      },
      "source": [
        ""
      ],
      "execution_count": null,
      "outputs": []
    },
    {
      "cell_type": "code",
      "metadata": {
        "id": "LQwa6BAFYH7E"
      },
      "source": [
        "image_url = 'https://drive.google.com/uc?export=download&id=1Vv-Jz1VpI48MOVgK3Hq6ZYrs2NDP-FQ2'\n",
        "filename = wget.download(image_url)\n",
        "zf = ZipFile(filename, 'r')\n",
        "zf.extractall('../data')\n",
        "zf.close()"
      ],
      "execution_count": null,
      "outputs": []
    },
    {
      "cell_type": "code",
      "metadata": {
        "id": "WfwNEbY6c7V9"
      },
      "source": [
        "#DATA LOADING ROUTINES\n",
        "\n",
        "#This class must be fine-tuned after completing the model, so as to be able to read from any h5 input formats\n",
        "class Load_HDF5(Dataset):\n",
        "  # if get_all == True, file_path must specifiy a directory, if not, it should specify a file\n",
        "  # the class will crash if this requirement is not met\n",
        "  def __init__(self, file_path, get_all = False, transform = None):\n",
        "    self.path = file_path\n",
        "    self.transform = transform\n",
        "    #if filename is None, perform a recursive search over the file directory and retrieve all .h5 files\n",
        "    p = Path(file_path)\n",
        "    if get_all == True:\n",
        "      files = sorted(p.glob('*.h5'))\n",
        "      data_list = []\n",
        "      for file in files:\n",
        "        data_list.append(self.get_file(str(file)))\n",
        "      self.data = data_list\n",
        "    else:\n",
        "      self.data = self.get_file(str(file))\n",
        "\n",
        "  #given a filepath, return the image object\n",
        "  def get_file(self, path):\n",
        "    with h5py.File(path, 'r') as file:\n",
        "      data = file['dep']\n",
        "      data = data.get('view1')[:]\n",
        "      return data\n",
        "    \n",
        "  def __getitem__(self, index):\n",
        "    if len(self.data) <= index:\n",
        "      print(\"__getitem__ERROR: index out of range\")\n",
        "      return \n",
        "    else:\n",
        "      x = self.data[index]\n",
        "      x = x.astype('float32')\n",
        "      if self.transform:\n",
        "        x = self.transform(x)\n",
        "      return x\n",
        "\n",
        "  def __len__(self):\n",
        "    return len(self.data)\n",
        "\n",
        "  \n",
        "class Mask_Dict(Dataset):\n",
        "    def __init__(self, src_img, tar_img):\n",
        "        self.src_img = src_img\n",
        "        self.tar_img = tar_img\n",
        "        \n",
        "    def __getitem__(self, index):\n",
        "        x = self.src_img[index]\n",
        "        y = self.tar_img[index]\n",
        "        \n",
        "        return {'src': x, 'tar': y}\n",
        "    \n",
        "    def __len__(self):\n",
        "        return len(self.src_img)\n",
        "\n",
        "\n",
        "\n",
        "   \n"
      ],
      "execution_count": null,
      "outputs": []
    },
    {
      "cell_type": "code",
      "metadata": {
        "id": "4V-U6BRRWqSs"
      },
      "source": [
        "ds = Load_HDF5(FILE_PATH, get_all=True, transform=ToTensor())\n",
        "\n",
        "#split data into train, validation, test sets\n",
        "TRAIN_SIZE = len(ds)-VAL_SIZE-TEST_SIZE\n",
        "Trainset, Validset, Testset = random_split(ds,[TRAIN_SIZE, VAL_SIZE, TEST_SIZE])\n",
        "\n",
        "Trainset_target, Trainset_source = random_split(Trainset, [int(TRAIN_SIZE*TARGET_PROPORTION), int(TRAIN_SIZE*(1-TARGET_PROPORTION))])\n",
        "Validset_target, Validset_source = random_split(Validset, [int(VAL_SIZE*TARGET_PROPORTION_VAL), int(VAL_SIZE*(1-TARGET_PROPORTION_VAL))])\n",
        "Testset_target, Testset_source = random_split(Testset, [int(TEST_SIZE*TARGET_PROPORTION_TEST), int(TEST_SIZE*(1-TARGET_PROPORTION_TEST))])\n",
        "\n",
        "#make dataloaders for targets and sources\n",
        "train_loader_target = DataLoader(Trainset_target, batch_size=1, shuffle=True)\n",
        "train_loader_source = DataLoader(Trainset_source, batch_size=BATCH_SIZE, shuffle=True)\n",
        "valid_loader_target = DataLoader(Validset_target, batch_size=BATCH_SIZE, shuffle=True)\n",
        "valid_loader_source = DataLoader(Validset_source, batch_size=BATCH_SIZE, shuffle=True)\n",
        "test_loader_target = DataLoader(Testset_target, batch_size=BATCH_SIZE, shuffle=True)\n",
        "test_loader_source = DataLoader(Testset_source, batch_size=BATCH_SIZE, shuffle=True)\n",
        "\n"
      ],
      "execution_count": null,
      "outputs": []
    },
    {
      "cell_type": "code",
      "metadata": {
        "id": "vGlMQdyGyYpd"
      },
      "source": [
        "#CORE HELPER FUNCTIONS\n",
        "\n",
        "#initialize the differential grid\n",
        "#the parameter learn offset will define whether or not to learn the offset values during training\n",
        "def init_grid(grid_size):\n",
        "  #spacing of the grid\n",
        "  delta = 2/grid_size\n",
        "  np_grid = np.arange(grid_size, dtype=float)\n",
        "  np_grid = np.full_like(np_grid,float(delta))\n",
        "  ts_grid_x = torch.tensor(np_grid).to(DEVICE)\n",
        "  ts_grid_y = torch.tensor(np_grid).to(DEVICE)\n",
        "  ts_grid_x[0] = -1\n",
        "  ts_grid_y[0] = -1\n",
        "  diff_i_grid_y, diff_i_grid_x = torch.meshgrid(ts_grid_x,ts_grid_y)\n",
        "\n",
        "  \"\"\"  print(f'{diff_i_grid_x},{diff_i_grid_y}')\"\"\"  \n",
        "  diff_grid = torch.stack([diff_i_grid_x, diff_i_grid_y])\n",
        "  diff_grid = diff_grid.view(2*grid_size*grid_size)\n",
        "  return diff_grid\n",
        "\n",
        "#perform cumsum operation on a 2d batch of inputs\n",
        "#takes in grid tensors of shape batch x 2 x grid x grid \n",
        "#return grid tensors of shape batch x 2 x grid x grid \n",
        "def cumsum_2d(grid, grid_offset_x, grid_offset_y):\n",
        "  batch_size, dim, grid_1, grid_2 = grid.shape\n",
        "  grid[:,0,:,0] = -1 \n",
        "  grid[:,1,0,:] = -1 \n",
        "\n",
        "  Integrated_grid_x = torch.cumsum(grid[:,0], dim = 2) + grid_offset_x\n",
        "  Integrated_grid_y = torch.cumsum(grid[:,1], dim = 1) + grid_offset_y\n",
        "\n",
        "  Integrated_grid = torch.stack([Integrated_grid_x, Integrated_grid_y])\n",
        "  Integrated_grid = Integrated_grid.permute([1,0,2,3])\n",
        "\n",
        "  return Integrated_grid\n",
        "\n",
        "#visualize image given a data loader\n",
        "def visualize_image(data_loader, plot_size):\n",
        "  fig, ax = plt.subplots(plot_size, plot_size, figsize=(20,20))\n",
        "  x = 0\n",
        "  y = 0\n",
        "  for i,batch_image in enumerate(data_loader):\n",
        "    for k,image in enumerate(batch_image):\n",
        "      image = image.squeeze()\n",
        "      if x >= plot_size:\n",
        "        x = 0\n",
        "        y += 1\n",
        "      if y >= plot_size:\n",
        "        return\n",
        "      ax[x,y].imshow(image, cmap='gray')\n",
        "      x += 1"
      ],
      "execution_count": null,
      "outputs": []
    },
    {
      "cell_type": "code",
      "metadata": {
        "id": "nrRj9FU3byz7"
      },
      "source": [
        "#DATA AUGMENTATION ROUTINES\n",
        "\n",
        "#return target image as masked by random size and locations\n",
        "#input: BxWxH\n",
        "def random_mask_2d(target_size, target_image, square=True):\n",
        "  x_coordinate = np.random.randint(target_size)\n",
        "  y_coordinate = np.random.randint(target_size)\n",
        "  mask_size_x = np.random.randint(target_size)\n",
        "  mask_size_y = np.random.randint(target_size)\n",
        "  if square:\n",
        "    mask_size_x = np.random.randint(target_size)\n",
        "    mask_size_y = mask_size_x\n",
        "  end_coodinate_x = x_coordinate + mask_size_x if x_coordinate + mask_size_x < target_size else target_size\n",
        "  end_coodinate_y = y_coordinate + mask_size_y if y_coordinate + mask_size_y < target_size else target_size\n",
        "  masked_image = target_image.copy()\n",
        "  masked_image[:,x_coordinate:end_coordinate_x,y_coordinate:end_coordinate_y] = 0\n",
        "  #if the masked_image is same as the target_image, recursively apply the function again\n",
        "  if masked_image == target_image:\n",
        "    return random_mask_2d(target_size, target_image, square)\n",
        "  return masked_image\n",
        "\n",
        "#given an NxM image, detected the minimum gap between the edge of the image and the image pixel\n",
        "def min_gap(image):\n",
        "  N, M = image.shape\n",
        "  #search the gap along the x_axis\n",
        "  min_index_left_x = 0\n",
        "  min_index_right_x = N\n",
        "  for i in range(N):\n",
        "    left_sum_x = sum(N[:,i])\n",
        "    right_sum_x = sum(N[:,N-i])\n",
        "    if left_sum_x != 0:\n",
        "      min_index_left_x = i - 1\n",
        "    if right_sum_x != 0:\n",
        "      min_index_right_x = N - i + 1\n",
        "    if min_index_left_x != 0 and min_index_right_x != N:\n",
        "      break\n",
        "  #search the gap along the y_axis\n",
        "  min_index_upper_y = 0\n",
        "  min_index_lower_y = M\n",
        "  for i in range(M):\n",
        "    upper_sum_y = sum(M[:,i])\n",
        "    lower_sum_y = sum(M[:,M-i])\n",
        "    if upper_sum_y != 0:\n",
        "      min_index_upper_y = i - 1\n",
        "    if lower_sum_y != 0:\n",
        "      min_index_lower_y = M - i + 1\n",
        "    if min_index_upper_y != 0 and min_index_lower_y != M:\n",
        "      break\n",
        "    return min_index_left_x, min_index_right_x, min_index_upper_y, min_index_lower_y\n",
        "  \n",
        "\n",
        "\n",
        "\n",
        "\n",
        "\n",
        "#randomly stretch image vertically or/and horizontally\n",
        "#the transformation will be an affine transformation\n",
        "#the transformation can either stretch inwards or outwards\n",
        "#input BxWxH\n",
        "def random_stretch (target_image, vertical=False, horizontal=False, stretch_inwards=False):\n",
        "    B, W, H = target_image.shape\n",
        "    grid_diff = 2/(W-1)\n",
        "    #create a differential deformation grid using init_grid\n",
        "    grid = init_grid(W)\n",
        "    grid = grid.view(2,W,H)\n",
        "    grid_x = grid[0]\n",
        "    grid_y = grid[1]\n",
        "    #in order to avoid over stretching, get a random scalar from a normal distribution\n",
        "    mean, std = 0, 0.05\n",
        "    stretch_scale_x = abs(np.random.normal(mean, std))\n",
        "    stretch_scale_y = abs(np.random.normal(mean, std))\n",
        "    if stretch_scale_x == 0 or stretch_scale_y == 0:\n",
        "      print('stretch_scalar out of range.. resampling..')\n",
        "      random_stretch(target_image, vertical, horzontal, stretch_inwards)\n",
        "    #define the range to which we will apply the transformation (and make it into an even integer value)\n",
        "    stretch_range = int(np.random.normal(W/2, 10))\n",
        "    stretch_range = stretch_range if stretch_range % 2 == 0 else stretch_range - 1\n",
        "    stretch_range = 1 if stretch_range == 0 else stretch_range\n",
        "    stretch_range = abs(stretch_range)\n",
        "    print(f'The stretch_range is: {stretch_range}')\n",
        "    print(f'The stretch_scale is: {stretch_scale_y}')\n",
        "    print(f'The grid_diff is: {grid_diff}')\n",
        "\n",
        "    stretch_value_x = grid_diff + stretch_scale_y\n",
        "    stretch_value_y = grid_diff + stretch_scale_x\n",
        "\n",
        "    #sum of the total stretched values\n",
        "    stretch_sum_x = stretch_range * stretch_value_x\n",
        "    stretch_sum_y = stretch_range * stretch_value_y\n",
        "\n",
        "    #resample random values recursively if the stretch goes out of range\n",
        "    if stretch_sum_x > 2 or stretch_sum_y > 2:\n",
        "      print('stretch_sum out of range: resample stretch parameters...')\n",
        "      return random_stretch(target_image, vertical, horizontal, stretch_inwards)\n",
        "    if vertical:\n",
        "      #now we will reshape the differential grid outside of the stretch window in order to fit into the range [-1, 1]\n",
        "      #we will transform the unstretched grids first then apply the stretch window\n",
        "      unstretched_scalar_y = (2 - stretch_sum_y) / (W - stretch_range - 1)\n",
        "      print(f' unstretched_scalar_y: {unstretched_scalar_y}')\n",
        "      grid_y[:,:] = unstretched_scalar_y\n",
        "      grid_y[0,:] = -1\n",
        "      #apply the transformation to within the stretch window\n",
        "      grid_y[int(W/2 - stretch_range/2) : int(W/2 + stretch_range/2),  int(H/2 - stretch_range/2) : int(H/2 + stretch_range/2)] = stretch_value_y\n",
        "    if horizontal:\n",
        "      #now we will reshape the differential grid outside of the stretch window in order to fit into the range [-1, 1]\n",
        "      #we will transform the unstretched grids first then apply the stretch window\n",
        "      unstretched_scalar_x = (2 - stretch_sum_x) / (W - stretch_range -1)\n",
        "      grid_x[:,:] = unstretched_scalar_x\n",
        "      grid_x[:,0] = -1\n",
        "      #apply the transformation to within the stretch window\n",
        "      grid_x[int(W/2 - stretch_range/2) : int(W/2 + stretch_range/2),  int(H/2 - stretch_range/2) : int(H/2 + stretch_range/2)] = stretch_value_x\n",
        "    \n",
        "    torch.set_printoptions(edgeitems=100)\n",
        "    grid = torch.stack([grid_x, grid_y])\n",
        "    grid = grid.type(torch.FloatTensor).to(DEVICE)\n",
        "    \"\"\" print(f'shape of grid: {grid.shape}')\"\"\"\n",
        "    #perform the cumsum operation to restore the original grid from the differential grid\n",
        "    integrated_grid = cumsum_2d(grid.unsqueeze(0), 0, 0)\n",
        "    \"\"\"print(f'shape of integrated_grid: {integrated_grid.shape}')\"\"\"\n",
        "    stretched_image = nn.functional.grid_sample(target_image.unsqueeze(0).permute([1,0,2,3]).to(DEVICE), integrated_grid.permute([0,2,3,1]))\n",
        "    return stretched_image\n",
        "\n",
        "#TODO: maybe just fuck this and use linalg transformation matrixes\n",
        "\n",
        "#given mask_size, target_size, stride, and target_image, create as many masked target images as possible and return its corresponding dataset\n",
        "def mask_target_2d(mask_size, stride, target_size, target_image):\n",
        "  #define parameters to fine-tune the masking operation\n",
        "  remainder = target_size % mask_size\n",
        "  max_iter = int(target_size / mask_size)\n",
        "\n",
        "  #even_remainder denotes whether the remaining pixel after masking the input image is even (default=false)\n",
        "  even_remainder = False\n",
        "  if remainder % 2 == 0:\n",
        "    even_remainder = True\n",
        "  #convert target image to numpy in order to ease type conversions\n",
        "  target_image = target_image.to(torch.device('cpu'))\n",
        "  target_image = np.array(target_image)  \n",
        "  starting_coordinate = [mask_size+int(remainder/2), mask_size+int(remainder/2)]\n",
        "  #the current_coordinate denotes the upper-right-most coordinate of the mask \n",
        "  current_coordinate = [mask_size+int(remainder/2), mask_size+int(remainder/2)]\n",
        "  #max_coordinate denotes the upper_right-most corner of the target image that the mask can reach\n",
        "  max_coordinate = [target_size-int(remainder/2),target_size-int(remainder/2)]\n",
        "  #dataset of masked images\n",
        "  masked_arr = []\n",
        "  #the first element of masked data will be the original image\n",
        "  masked_arr.append(target_image.copy())\n",
        "  #produce mask images until the mask reaches the upper_right corner of the target image (max_coordinate)\n",
        "  while (current_coordinate[0] <= max_coordinate[0]) and (current_coordinate[1] <= max_coordinate[1]):\n",
        "    #turn all areas within the masking target into zero\n",
        "    masked_image = target_image.copy()\n",
        "    masked_image[:,current_coordinate[0]-mask_size:current_coordinate[0],current_coordinate[1]-mask_size:current_coordinate[1]] = 0\n",
        "    #add the masked image to data array--only if the masked image is different from the original image\n",
        "    if not np.array_equal(masked_image, target_image):\n",
        "      masked_arr.append(masked_image)\n",
        "    #update current_coordinate along the x-axis\n",
        "    current_coordinate[0] = current_coordinate[0] + stride\n",
        "    #if the mask reaches the max of the x axis, move up to the y axis \n",
        "    if current_coordinate[0] >= max_coordinate[0]:\n",
        "      current_coordinate[1] = current_coordinate[1] + stride\n",
        "      current_coordinate[0] = starting_coordinate[0] \n",
        "  masked_arr = np.array(masked_arr)\n",
        "  #just return the np object, not tensor\n",
        "  return masked_arr\n",
        "    \n",
        "\n",
        "\n",
        "\n",
        "\n"
      ],
      "execution_count": null,
      "outputs": []
    },
    {
      "cell_type": "code",
      "metadata": {
        "id": "NJtpjGMwbyv7",
        "colab": {
          "base_uri": "https://localhost:8080/",
          "height": 414
        },
        "outputId": "7904a2ab-3d92-4f11-9d6e-2ac2a8406977"
      },
      "source": [
        "test_image_batch = next(iter(train_loader_target))\n",
        "test_image = next(iter(test_image_batch))\n",
        "stretch_image = random_stretch(test_image, vertical=True, horizontal=True)\n",
        "test_image = test_image.to(torch.device('cpu')).detach().numpy()\n",
        "stretch_image = stretch_image.to(torch.device('cpu')).detach().numpy()\n",
        "plt.imshow(test_image.squeeze())\n",
        "\n",
        "\n"
      ],
      "execution_count": null,
      "outputs": [
        {
          "output_type": "stream",
          "text": [
            "The stretch_range is: 58\n",
            "The stretch_scale is: 0.005158970969739845\n",
            "The grid_diff is: 0.015748031496062992\n",
            " unstretched_scalar_y: 0.004100169643498366\n"
          ],
          "name": "stdout"
        },
        {
          "output_type": "stream",
          "text": [
            "/usr/local/lib/python3.7/dist-packages/torch/nn/functional.py:3982: UserWarning: Default grid_sample and affine_grid behavior has changed to align_corners=False since 1.3.0. Please specify align_corners=True if the old behavior is desired. See the documentation of grid_sample for details.\n",
            "  \"Default grid_sample and affine_grid behavior has changed \"\n"
          ],
          "name": "stderr"
        },
        {
          "output_type": "execute_result",
          "data": {
            "text/plain": [
              "<matplotlib.image.AxesImage at 0x7ffb04191410>"
            ]
          },
          "metadata": {},
          "execution_count": 17
        },
        {
          "output_type": "display_data",
          "data": {
            "image/png": "[encoded data removed]",
            "text/plain": [
              "<Figure size 432x288 with 1 Axes>"
            ]
          },
          "metadata": {
            "needs_background": "light"
          }
        }
      ]
    },
    {
      "cell_type": "code",
      "metadata": {
        "colab": {
          "base_uri": "https://localhost:8080/",
          "height": 286
        },
        "id": "GxA4cmRLEiLM",
        "outputId": "06df9099-3bc7-43d1-fd24-d8b028edc679"
      },
      "source": [
        "plt.imshow(stretch_image.squeeze())"
      ],
      "execution_count": null,
      "outputs": [
        {
          "output_type": "execute_result",
          "data": {
            "text/plain": [
              "<matplotlib.image.AxesImage at 0x7ffb040f5b90>"
            ]
          },
          "metadata": {},
          "execution_count": 18
        },
        {
          "output_type": "display_data",
          "data": {
            "image/png": "[encoded data removed]",
            "text/plain": [
              "<Figure size 432x288 with 1 Axes>"
            ]
          },
          "metadata": {
            "needs_background": "light"
          }
        }
      ]
    },
    {
      "cell_type": "code",
      "metadata": {
        "colab": {
          "base_uri": "https://localhost:8080/",
          "height": 1000
        },
        "id": "-NDVuc32dAD8",
        "outputId": "251a821e-58c2-45b4-a7a1-e0ca22cdf1a8"
      },
      "source": [
        "#test cell for the function mask_target_2d\n",
        "masked_ds = mask_target_2d(60, 20, 128, stretch_image)\n",
        "masked_dl = DataLoader(masked_ds, batch_size=BATCH_SIZE, shuffle=True)\n",
        "visualize_image(masked_dl, 10)"
      ],
      "execution_count": null,
      "outputs": [
        {
          "output_type": "display_data",
          "data": {
            "image/png": "[encoded data removed]",
            "text/plain": [
              "<Figure size 1440x1440 with 100 Axes>"
            ]
          },
          "metadata": {
            "needs_background": "light"
          }
        }
      ]
    },
    {
      "cell_type": "code",
      "metadata": {
        "id": "fqSd4yHCEgz9"
      },
      "source": [
        "plt.imshow(stretch_image.squeeze())"
      ],
      "execution_count": null,
      "outputs": []
    },
    {
      "cell_type": "code",
      "metadata": {
        "id": "ID_NZi15dyt6"
      },
      "source": [
        "\n",
        "\n",
        "#define the alignnet model\n",
        "def get_conv(grid_size):\n",
        "  model = nn.Sequential (\n",
        "      nn.MaxPool2d (2),\n",
        "      nn.Conv2d (2, 20, 5),\n",
        "      nn.ReLU(),\n",
        "      nn.MaxPool2d (2),\n",
        "      nn.Conv2d (20, 20, 5),\n",
        "      nn.ReLU(),\n",
        "      nn.MaxPool2d (2),\n",
        "      nn.Conv2d (20, 20, 2),\n",
        "      nn.ReLU(),\n",
        "      nn.MaxPool2d (2),\n",
        "      nn.Conv2d (20, 20, 5),\n",
        "      nn.ReLU(),\n",
        "      \n",
        "      #we need an Abs() functionality in order to ensure axial monotinicity\n",
        "      #but will implement it in the network loop for readability \n",
        "  )\n",
        "  return model\n",
        "\n",
        "#define the model class\n",
        "class ALIGNet(nn.Module):\n",
        "    def __init__(self, grid_size):\n",
        "      super().__init__()\n",
        "      self.conv = get_conv(grid_size).to(DEVICE)\n",
        "      self.flatten = nn.Flatten().to(DEVICE)\n",
        "      self.linear1 = nn.Sequential(nn.Linear(80,20, bias = True),nn.ReLU(),).to(DEVICE)\n",
        "      self.linear2 = nn.Linear(20, 2*grid_size*grid_size, bias=True).to(DEVICE)\n",
        "      self.linear2.weights = init_grid(grid_size)\n",
        "      self.grid_offset_x = torch.tensor(float(0), requires_grad=True).to(DEVICE)\n",
        "      self.grid_offset_y = torch.tensor(float(0), requires_grad=True).to(DEVICE)\n",
        "      self.grid_offset_x = nn.Parameter(self.grid_offset_x)\n",
        "      self.grid_offset_y = nn.Parameter(self.grid_offset_y)\n",
        "    def forward(self, x):\n",
        "        x = self.conv(x)\n",
        "        x = self.flatten(x)\n",
        "        x = self.linear1(x)\n",
        "        x = self.linear2(x)\n",
        "        return x\n",
        "\n",
        "\n",
        "\n",
        "#create and return a 2dimensional nxn grid (returns a vertically-stacked grid of x and y grid)\n",
        "def get_grid(grid_size):\n",
        "  grid_x, grid_y = torch.meshgrid(torch.linspace(-1,1,grid_size),torch.linspace(-1,1,grid_size))\n",
        "  grid = torch.stack(grid_x, grid_y)\n",
        "  return grid\n",
        "\n",
        "\n",
        "#define a custom loss function, including the L1 regularization\n",
        "#the warp field has the input format of Nx2xWxH\n",
        "#Lambda is the regularization coefficient\n",
        "def Total_Loss (target_image, warped_image, warp_field, grid_size, Lambda):\n",
        "  batch,W,H = warped_image.shape\n",
        "  L2_Loss_f = nn.MSELoss()\n",
        "  L2_Loss = L2_Loss_f(target_image, warped_image)\n",
        "  #create the identity grid\n",
        "  #create the identity differential grid\n",
        "  np_grid = np.arange(grid_size, dtype=float)\n",
        "  np_grid = np.full_like(np_grid,float(2/grid_size))\n",
        "  diff_i_grid_x, diff_i_grid_y = torch.meshgrid(torch.tensor(np_grid),torch.tensor(np_grid))\n",
        "  diff_i_grid_x = diff_i_grid_x.unsqueeze(dim=0)\n",
        "  diff_i_grid_y = diff_i_grid_y.unsqueeze(dim=0)\n",
        "  diff_i_grid_x = diff_i_grid_x.to(DEVICE)\n",
        "  diff_i_grid_y = diff_i_grid_y.to(DEVICE)\n",
        "  #calculate the L1_Loss\n",
        "  L1_Loss_f = nn.L1Loss()\n",
        "  L_TV_Loss = L1_Loss_f(warp_field[:,0],diff_i_grid_x) + L1_Loss_f(warp_field[:,1],diff_i_grid_y)\n",
        "  Total_loss = L2_Loss + Lambda * L_TV_Loss\n",
        "  return Total_loss\n",
        "\n",
        "\n",
        "def warp(model, source_image, masked_target, grid_size):\n",
        "  input_image = torch.stack([source_image, masked_target])\n",
        "  input_image  = input_image.permute([1,0,2,3])\n",
        "  #run the network\n",
        "  output_grid = model.forward(input_image)\n",
        "\n",
        "  batch, grid = output_grid.shape\n",
        "\n",
        "  \"\"\"print(f'shape of output_grid {output_grid.shape}')\"\"\"\n",
        "\n",
        "  output_grid = output_grid.view(batch, 2,grid_size,grid_size)\n",
        "  #output_grid = output_grid.squeeze()\n",
        "  #enforce axial monotinicity using the abs operation\n",
        "  output_grid = torch.abs(output_grid)\n",
        "  #perform the cumsum operation to restore the original grid from the differential grid\n",
        "  integrated_grid = cumsum_2d(output_grid, model.grid_offset_x, model.grid_offset_y)\n",
        "\n",
        "  \"\"\"print(f'shape of Integrated_grid {integrated_grid.shape}')\"\"\"\n",
        "\n",
        "  #Upsample the grid_size x grid_size warp field to image_size x image_size warp field\n",
        "  #We will use bilinear upsampling\n",
        "  #Integrated_grid = torch.unsqueeze(Integrated_grid, 0)\n",
        "  Upsampler = nn.Upsample(size = [IMAGE_SIZE, IMAGE_SIZE], mode = 'bilinear')\n",
        "  Upsampled_grid = Upsampler(integrated_grid)\n",
        "  Upsampled_grid = Upsampled_grid.permute(0,2,3,1)\n",
        "  Upsampled_grid = Upsampled_grid.float()\n",
        "  \n",
        "  #calculate target estimation\n",
        "  Target_estimate = nn.functional.grid_sample(source_image.unsqueeze(0).permute([1,0,2,3]), Upsampled_grid)\n",
        "  return output_grid, Target_estimate\n",
        "   \n",
        "#run the model for a single epoch\n",
        "def run_epoch(model, optimizer, source_loader, target_loader, grid_size):\n",
        "\n",
        "  \n",
        "  masked_list = []\n",
        "  target_list = []\n",
        "  for index_target, target_image in enumerate(target_loader):\n",
        "    _,_,img_size,img_size = target_image.shape\n",
        "    target_image = target_image[0]\n",
        "    target_image = np.array(target_image)\n",
        "    #create a masked target loader for a single target (Bx N x Wx H)\n",
        "    masked_ds = mask_target_2d(MASK_SIZE, MASK_STRIDE, IMAGE_SIZE, target_image)\n",
        "\n",
        "    #under the assumption that the model is overfitting due to too many masked targets\n",
        "    #we will reduce the size of mask by random sampling (uncomment the next line to use this func)\n",
        "    #masked_ds, _ = random_split(masked_ds,[3, len(masked_ds)-3])\n",
        "    #create target array and masked_array to make a dict of masked targets and original targets\n",
        "    for i in range(len(masked_ds)-1):\n",
        "      target_list.append(target_image)\n",
        "      masked_list.append(masked_ds[i])\n",
        "\n",
        "  target_list = np.array(target_list)\n",
        "  masked_list = np.array(masked_list)\n",
        "  #create a dictionary using the two lists\n",
        "  masked_dict =  Mask_Dict(masked_list, target_list)\n",
        "  masked_dl = DataLoader(masked_dict, batch_size=BATCH_SIZE, shuffle=True)\n",
        "  #create iteration objects\n",
        "  masked_iter = iter(masked_dl)\n",
        "  source_iter = iter(source_loader)\n",
        "  #we will save the average loss for seperate target images\n",
        "  Loss_list = []\n",
        "  #create iter objects of source and masked dict\n",
        "  for i in range(len(masked_dl)-1):\n",
        "    try:\n",
        "      source_image = next(source_iter)\n",
        "    except:\n",
        "      source_iter = iter(source_loader)\n",
        "      source_image = next(source_iter)\n",
        "    masked_dict = next(masked_iter)\n",
        " \n",
        "    masked_target = torch.FloatTensor(masked_dict['src']).squeeze(dim=1).to(DEVICE)\n",
        "    target_image = torch.FloatTensor(masked_dict['tar']).squeeze(dim=1).to(DEVICE)\n",
        "    optimizer.zero_grad()\n",
        "    #list of loss for each masked_target image\n",
        "    target_loss = []\n",
        "\n",
        "    source_image = source_image.squeeze(dim=1)\n",
        "    #vertically stack target and source images to feed into the model\n",
        "    source_image = source_image.float().to(DEVICE)\n",
        "    masked_target = masked_target.float().to(DEVICE)\n",
        "    #break if there isn't enough masked_target left\n",
        "    if masked_target.shape != source_image.shape:\n",
        "      break\n",
        "\n",
        "    #run forward propagation\n",
        "    output_grid, Target_estimate = warp(model, source_image, masked_target,grid_size)        \n",
        "    Target_estimate = Target_estimate.squeeze(dim=1)\n",
        "    Total_loss = Total_Loss(target_image, Target_estimate, output_grid, grid_size, 1e-5)\n",
        "    Total_loss.backward()\n",
        "    optimizer.step()\n",
        "    Loss_list.append(Total_loss)\n",
        "  if Loss_list:\n",
        "    #print(f'Loss for a target: {target_loss}')\n",
        "    avg_loss = sum(Loss_list) / len(Loss_list)\n",
        "  return Loss_list\n",
        "\n",
        "def run_model(model,source_loader, target_loader, grid_size):\n",
        "  optimizer = optim.Adam(model.parameters(), lr=1e-3)\n",
        "  epoch_loss = []\n",
        "  for i in range(EPOCHS):\n",
        "    loss_list = run_epoch(model, optimizer, source_loader, target_loader, grid_size)\n",
        "    avg_epoch_loss = sum(loss_list) / len(loss_list)\n",
        "    epoch_loss.append(avg_epoch_loss)\n",
        "    print(f'Loss in Epoch {i}: {avg_epoch_loss}')\n",
        "  return epoch_loss\n",
        "\n",
        "#------FROM HERE BELOW WE WILL DEFINE FUNCTIONS REQUIRED FOR VALIDATION-------\n",
        "\n",
        "#visualize the results given source, target, and target estimate images\n",
        "def visualize_results(source_image,  target_image, target_estimate):\n",
        "  batch, _, _ = source_image.shape\n",
        "  fig, ax = plt.subplots(batch, 3, figsize=(20,20))\n",
        "  for i in range(batch):\n",
        "    #ax[i,0].set_title('source_image')\n",
        "    ax[i,0].imshow(source_image[i], cmap='gray')\n",
        "    #ax[i,1].set_title('target_image')\n",
        "    ax[i,1].imshow(target_image[i], cmap='gray')\n",
        "    #ax[i,2].set_title('target_estimate')\n",
        "    ax[i,2].imshow(target_estimate[i], cmap='gray')\n",
        "  return\n",
        "\n",
        "#given source and target validation  dataloaders, perform all validation operations\n",
        "@torch.no_grad()\n",
        "def validate(model, source_dl, target_dl, grid_size, visualize = False, get_loss = False):\n",
        "  #we will run everything, save the results, and visualize the images all at once\n",
        "  source = []\n",
        "  target = []\n",
        "  target_est = []\n",
        "  loss_list = []\n",
        "  for i, target_image in enumerate(target_dl):\n",
        "    for k, source_image in enumerate(source_dl):\n",
        "      source_image = torch.tensor(source_image)\n",
        "      target_image = torch.tensor(target_image)\n",
        "      source_image = source_image.squeeze().to(DEVICE)\n",
        "      target_image = target_image.squeeze().to(DEVICE)\n",
        "\n",
        "      output_grid, target_estimate = warp(model, source_image, target_image, grid_size)  \n",
        "\n",
        "  \n",
        "      \n",
        "      if get_loss: \n",
        "        Total_loss = Total_Loss(target_image, target_estimate.squeeze(dim=1), output_grid, grid_size, 1e-5)\n",
        "        loss_list.append(Total_loss)\n",
        "      source_image = source_image.to(torch.device('cpu')).detach().numpy()\n",
        "      target_image = target_image.to(torch.device('cpu')).detach().numpy()\n",
        "      target_estimate = target_estimate.squeeze().to(torch.device('cpu')).detach().numpy()\n",
        "      if visualize:\n",
        "        source.append(source_image)\n",
        "        target.append(target_image)\n",
        "        target_est.append(target_estimate)\n",
        "  if visualize:\n",
        "    for i in range(len(source)):\n",
        "      source_image = source[i]\n",
        "      target_image = target[i]\n",
        "      target_estimate = target_est[i]\n",
        "      visualize_results(source_image, target_image, target_estimate)\n",
        "  if get_loss:\n",
        "    print(f'Average Loss: {sum(loss_list)/len(loss_list)}')\n",
        "\n",
        "    \n",
        "\n",
        "#TODO: Make it so that the model doesn't train all sources on a single target\n"
      ],
      "execution_count": null,
      "outputs": []
    },
    {
      "cell_type": "code",
      "metadata": {
        "colab": {
          "base_uri": "https://localhost:8080/",
          "height": 1000
        },
        "id": "PZ1fNDxc1cy9",
        "outputId": "7f316f5c-d567-4ec6-890f-332483e22ebc"
      },
      "source": [
        "\n",
        "model = ALIGNet(GRID_SIZE)\n",
        "e_loss =  run_model(model,train_loader_source, train_loader_target, GRID_SIZE)"
      ],
      "execution_count": null,
      "outputs": [
        {
          "output_type": "stream",
          "text": [
            "/usr/local/lib/python3.7/dist-packages/torch/nn/functional.py:718: UserWarning: Named tensors and all their associated APIs are an experimental feature and subject to change. Please do not use them for anything important until they are released as stable. (Triggered internally at  /pytorch/c10/core/TensorImpl.h:1156.)\n",
            "  return torch.max_pool2d(input, kernel_size, stride, padding, dilation, ceil_mode)\n",
            "/usr/local/lib/python3.7/dist-packages/torch/nn/functional.py:3613: UserWarning: Default upsampling behavior when mode=bilinear is changed to align_corners=False since 0.4.0. Please specify align_corners=True if the old behavior is desired. See the documentation of nn.Upsample for details.\n",
            "  \"See the documentation of nn.Upsample for details.\".format(mode)\n",
            "/usr/local/lib/python3.7/dist-packages/torch/nn/functional.py:3982: UserWarning: Default grid_sample and affine_grid behavior has changed to align_corners=False since 1.3.0. Please specify align_corners=True if the old behavior is desired. See the documentation of grid_sample for details.\n",
            "  \"Default grid_sample and affine_grid behavior has changed \"\n",
            "/usr/local/lib/python3.7/dist-packages/torch/nn/modules/loss.py:97: UserWarning: Using a target size (torch.Size([1, 8, 8])) that is different to the input size (torch.Size([10, 8, 8])). This will likely lead to incorrect results due to broadcasting. Please ensure they have the same size.\n",
            "  return F.l1_loss(input, target, reduction=self.reduction)\n"
          ],
          "name": "stderr"
        },
        {
          "output_type": "stream",
          "text": [
            "torch.Size([10, 128, 128, 2])\n",
            "torch.Size([10, 128, 128, 2])\n",
            "torch.Size([10, 128, 128, 2])\n",
            "torch.Size([10, 128, 128, 2])\n",
            "torch.Size([10, 128, 128, 2])\n",
            "torch.Size([10, 128, 128, 2])\n",
            "torch.Size([10, 128, 128, 2])\n",
            "torch.Size([10, 128, 128, 2])\n",
            "torch.Size([10, 128, 128, 2])\n",
            "torch.Size([10, 128, 128, 2])\n",
            "torch.Size([10, 128, 128, 2])\n",
            "torch.Size([10, 128, 128, 2])\n",
            "torch.Size([10, 128, 128, 2])\n",
            "Loss in Epoch 0: 0.3632142245769501\n",
            "torch.Size([10, 128, 128, 2])\n",
            "torch.Size([10, 128, 128, 2])\n",
            "torch.Size([10, 128, 128, 2])\n",
            "torch.Size([10, 128, 128, 2])\n",
            "torch.Size([10, 128, 128, 2])\n",
            "torch.Size([10, 128, 128, 2])\n",
            "torch.Size([10, 128, 128, 2])\n",
            "torch.Size([10, 128, 128, 2])\n",
            "torch.Size([10, 128, 128, 2])\n",
            "torch.Size([10, 128, 128, 2])\n",
            "torch.Size([10, 128, 128, 2])\n",
            "torch.Size([10, 128, 128, 2])\n",
            "torch.Size([10, 128, 128, 2])\n",
            "Loss in Epoch 1: 0.30733588337898254\n",
            "torch.Size([10, 128, 128, 2])\n",
            "torch.Size([10, 128, 128, 2])\n",
            "torch.Size([10, 128, 128, 2])\n",
            "torch.Size([10, 128, 128, 2])\n",
            "torch.Size([10, 128, 128, 2])\n",
            "torch.Size([10, 128, 128, 2])\n",
            "torch.Size([10, 128, 128, 2])\n",
            "torch.Size([10, 128, 128, 2])\n",
            "torch.Size([10, 128, 128, 2])\n",
            "torch.Size([10, 128, 128, 2])\n",
            "torch.Size([10, 128, 128, 2])\n",
            "torch.Size([10, 128, 128, 2])\n",
            "torch.Size([10, 128, 128, 2])\n",
            "Loss in Epoch 2: 0.2518565058708191\n",
            "torch.Size([10, 128, 128, 2])\n",
            "torch.Size([10, 128, 128, 2])\n",
            "torch.Size([10, 128, 128, 2])\n",
            "torch.Size([10, 128, 128, 2])\n",
            "torch.Size([10, 128, 128, 2])\n",
            "torch.Size([10, 128, 128, 2])\n",
            "torch.Size([10, 128, 128, 2])\n",
            "torch.Size([10, 128, 128, 2])\n",
            "torch.Size([10, 128, 128, 2])\n",
            "torch.Size([10, 128, 128, 2])\n",
            "torch.Size([10, 128, 128, 2])\n",
            "torch.Size([10, 128, 128, 2])\n",
            "torch.Size([10, 128, 128, 2])\n",
            "Loss in Epoch 3: 0.22430503368377686\n",
            "torch.Size([10, 128, 128, 2])\n",
            "torch.Size([10, 128, 128, 2])\n",
            "torch.Size([10, 128, 128, 2])\n",
            "torch.Size([10, 128, 128, 2])\n",
            "torch.Size([10, 128, 128, 2])\n",
            "torch.Size([10, 128, 128, 2])\n",
            "torch.Size([10, 128, 128, 2])\n",
            "torch.Size([10, 128, 128, 2])\n",
            "torch.Size([10, 128, 128, 2])\n",
            "torch.Size([10, 128, 128, 2])\n",
            "torch.Size([10, 128, 128, 2])\n",
            "torch.Size([10, 128, 128, 2])\n",
            "torch.Size([10, 128, 128, 2])\n",
            "Loss in Epoch 4: 0.2215571254491806\n",
            "torch.Size([10, 128, 128, 2])\n",
            "torch.Size([10, 128, 128, 2])\n",
            "torch.Size([10, 128, 128, 2])\n",
            "torch.Size([10, 128, 128, 2])\n",
            "torch.Size([10, 128, 128, 2])\n",
            "torch.Size([10, 128, 128, 2])\n",
            "torch.Size([10, 128, 128, 2])\n",
            "torch.Size([10, 128, 128, 2])\n",
            "torch.Size([10, 128, 128, 2])\n",
            "torch.Size([10, 128, 128, 2])\n",
            "torch.Size([10, 128, 128, 2])\n",
            "torch.Size([10, 128, 128, 2])\n",
            "torch.Size([10, 128, 128, 2])\n",
            "Loss in Epoch 5: 0.21585151553153992\n",
            "torch.Size([10, 128, 128, 2])\n",
            "torch.Size([10, 128, 128, 2])\n",
            "torch.Size([10, 128, 128, 2])\n",
            "torch.Size([10, 128, 128, 2])\n",
            "torch.Size([10, 128, 128, 2])\n",
            "torch.Size([10, 128, 128, 2])\n",
            "torch.Size([10, 128, 128, 2])\n",
            "torch.Size([10, 128, 128, 2])\n",
            "torch.Size([10, 128, 128, 2])\n",
            "torch.Size([10, 128, 128, 2])\n",
            "torch.Size([10, 128, 128, 2])\n",
            "torch.Size([10, 128, 128, 2])\n",
            "torch.Size([10, 128, 128, 2])\n",
            "Loss in Epoch 6: 0.18137343227863312\n",
            "torch.Size([10, 128, 128, 2])\n",
            "torch.Size([10, 128, 128, 2])\n",
            "torch.Size([10, 128, 128, 2])\n",
            "torch.Size([10, 128, 128, 2])\n",
            "torch.Size([10, 128, 128, 2])\n",
            "torch.Size([10, 128, 128, 2])\n",
            "torch.Size([10, 128, 128, 2])\n",
            "torch.Size([10, 128, 128, 2])\n",
            "torch.Size([10, 128, 128, 2])\n",
            "torch.Size([10, 128, 128, 2])\n",
            "torch.Size([10, 128, 128, 2])\n",
            "torch.Size([10, 128, 128, 2])\n",
            "torch.Size([10, 128, 128, 2])\n",
            "Loss in Epoch 7: 0.18885000050067902\n",
            "torch.Size([10, 128, 128, 2])\n",
            "torch.Size([10, 128, 128, 2])\n",
            "torch.Size([10, 128, 128, 2])\n",
            "torch.Size([10, 128, 128, 2])\n",
            "torch.Size([10, 128, 128, 2])\n",
            "torch.Size([10, 128, 128, 2])\n",
            "torch.Size([10, 128, 128, 2])\n",
            "torch.Size([10, 128, 128, 2])\n",
            "torch.Size([10, 128, 128, 2])\n",
            "torch.Size([10, 128, 128, 2])\n",
            "torch.Size([10, 128, 128, 2])\n",
            "torch.Size([10, 128, 128, 2])\n",
            "torch.Size([10, 128, 128, 2])\n",
            "Loss in Epoch 8: 0.18599016964435577\n",
            "torch.Size([10, 128, 128, 2])\n",
            "torch.Size([10, 128, 128, 2])\n",
            "torch.Size([10, 128, 128, 2])\n",
            "torch.Size([10, 128, 128, 2])\n",
            "torch.Size([10, 128, 128, 2])\n",
            "torch.Size([10, 128, 128, 2])\n",
            "torch.Size([10, 128, 128, 2])\n",
            "torch.Size([10, 128, 128, 2])\n",
            "torch.Size([10, 128, 128, 2])\n",
            "torch.Size([10, 128, 128, 2])\n",
            "torch.Size([10, 128, 128, 2])\n",
            "torch.Size([10, 128, 128, 2])\n",
            "torch.Size([10, 128, 128, 2])\n",
            "Loss in Epoch 9: 0.19695213437080383\n",
            "torch.Size([10, 128, 128, 2])\n",
            "torch.Size([10, 128, 128, 2])\n",
            "torch.Size([10, 128, 128, 2])\n",
            "torch.Size([10, 128, 128, 2])\n",
            "torch.Size([10, 128, 128, 2])\n",
            "torch.Size([10, 128, 128, 2])\n",
            "torch.Size([10, 128, 128, 2])\n",
            "torch.Size([10, 128, 128, 2])\n",
            "torch.Size([10, 128, 128, 2])\n",
            "torch.Size([10, 128, 128, 2])\n",
            "torch.Size([10, 128, 128, 2])\n",
            "torch.Size([10, 128, 128, 2])\n",
            "torch.Size([10, 128, 128, 2])\n",
            "Loss in Epoch 10: 0.19109109044075012\n",
            "torch.Size([10, 128, 128, 2])\n",
            "torch.Size([10, 128, 128, 2])\n",
            "torch.Size([10, 128, 128, 2])\n",
            "torch.Size([10, 128, 128, 2])\n",
            "torch.Size([10, 128, 128, 2])\n",
            "torch.Size([10, 128, 128, 2])\n",
            "torch.Size([10, 128, 128, 2])\n",
            "torch.Size([10, 128, 128, 2])\n",
            "torch.Size([10, 128, 128, 2])\n",
            "torch.Size([10, 128, 128, 2])\n",
            "torch.Size([10, 128, 128, 2])\n",
            "torch.Size([10, 128, 128, 2])\n",
            "torch.Size([10, 128, 128, 2])\n",
            "Loss in Epoch 11: 0.19187161326408386\n",
            "torch.Size([10, 128, 128, 2])\n",
            "torch.Size([10, 128, 128, 2])\n",
            "torch.Size([10, 128, 128, 2])\n",
            "torch.Size([10, 128, 128, 2])\n",
            "torch.Size([10, 128, 128, 2])\n",
            "torch.Size([10, 128, 128, 2])\n",
            "torch.Size([10, 128, 128, 2])\n",
            "torch.Size([10, 128, 128, 2])\n",
            "torch.Size([10, 128, 128, 2])\n",
            "torch.Size([10, 128, 128, 2])\n",
            "torch.Size([10, 128, 128, 2])\n",
            "torch.Size([10, 128, 128, 2])\n",
            "torch.Size([10, 128, 128, 2])\n",
            "Loss in Epoch 12: 0.19446523487567902\n",
            "torch.Size([10, 128, 128, 2])\n",
            "torch.Size([10, 128, 128, 2])\n",
            "torch.Size([10, 128, 128, 2])\n",
            "torch.Size([10, 128, 128, 2])\n",
            "torch.Size([10, 128, 128, 2])\n",
            "torch.Size([10, 128, 128, 2])\n",
            "torch.Size([10, 128, 128, 2])\n",
            "torch.Size([10, 128, 128, 2])\n",
            "torch.Size([10, 128, 128, 2])\n",
            "torch.Size([10, 128, 128, 2])\n",
            "torch.Size([10, 128, 128, 2])\n",
            "torch.Size([10, 128, 128, 2])\n",
            "torch.Size([10, 128, 128, 2])\n",
            "Loss in Epoch 13: 0.17337964475154877\n",
            "torch.Size([10, 128, 128, 2])\n",
            "torch.Size([10, 128, 128, 2])\n",
            "torch.Size([10, 128, 128, 2])\n",
            "torch.Size([10, 128, 128, 2])\n",
            "torch.Size([10, 128, 128, 2])\n",
            "torch.Size([10, 128, 128, 2])\n",
            "torch.Size([10, 128, 128, 2])\n",
            "torch.Size([10, 128, 128, 2])\n",
            "torch.Size([10, 128, 128, 2])\n",
            "torch.Size([10, 128, 128, 2])\n",
            "torch.Size([10, 128, 128, 2])\n",
            "torch.Size([10, 128, 128, 2])\n",
            "torch.Size([10, 128, 128, 2])\n",
            "Loss in Epoch 14: 0.16436544060707092\n",
            "torch.Size([10, 128, 128, 2])\n",
            "torch.Size([10, 128, 128, 2])\n",
            "torch.Size([10, 128, 128, 2])\n",
            "torch.Size([10, 128, 128, 2])\n",
            "torch.Size([10, 128, 128, 2])\n",
            "torch.Size([10, 128, 128, 2])\n",
            "torch.Size([10, 128, 128, 2])\n",
            "torch.Size([10, 128, 128, 2])\n",
            "torch.Size([10, 128, 128, 2])\n"
          ],
          "name": "stdout"
        },
        {
          "output_type": "error",
          "ename": "KeyboardInterrupt",
          "evalue": "ignored",
          "traceback": [
            "\u001b[0;31m---------------------------------------------------------------------------\u001b[0m",
            "\u001b[0;31mKeyboardInterrupt\u001b[0m                         Traceback (most recent call last)",
            "\u001b[0;32m<ipython-input-84-110c40bdac5b>\u001b[0m in \u001b[0;36m<module>\u001b[0;34m()\u001b[0m\n\u001b[1;32m      1\u001b[0m \u001b[0;34m\u001b[0m\u001b[0m\n\u001b[1;32m      2\u001b[0m \u001b[0mmodel\u001b[0m \u001b[0;34m=\u001b[0m \u001b[0mALIGNet\u001b[0m\u001b[0;34m(\u001b[0m\u001b[0mGRID_SIZE\u001b[0m\u001b[0;34m)\u001b[0m\u001b[0;34m\u001b[0m\u001b[0;34m\u001b[0m\u001b[0m\n\u001b[0;32m----> 3\u001b[0;31m \u001b[0me_loss\u001b[0m \u001b[0;34m=\u001b[0m  \u001b[0mrun_model\u001b[0m\u001b[0;34m(\u001b[0m\u001b[0mmodel\u001b[0m\u001b[0;34m,\u001b[0m\u001b[0mtrain_loader_source\u001b[0m\u001b[0;34m,\u001b[0m \u001b[0mtrain_loader_target\u001b[0m\u001b[0;34m,\u001b[0m \u001b[0mGRID_SIZE\u001b[0m\u001b[0;34m)\u001b[0m\u001b[0;34m\u001b[0m\u001b[0;34m\u001b[0m\u001b[0m\n\u001b[0m",
            "\u001b[0;32m<ipython-input-83-039d5ec3d185>\u001b[0m in \u001b[0;36mrun_model\u001b[0;34m(model, source_loader, target_loader, grid_size)\u001b[0m\n\u001b[1;32m    175\u001b[0m   \u001b[0mepoch_loss\u001b[0m \u001b[0;34m=\u001b[0m \u001b[0;34m[\u001b[0m\u001b[0;34m]\u001b[0m\u001b[0;34m\u001b[0m\u001b[0;34m\u001b[0m\u001b[0m\n\u001b[1;32m    176\u001b[0m   \u001b[0;32mfor\u001b[0m \u001b[0mi\u001b[0m \u001b[0;32min\u001b[0m \u001b[0mrange\u001b[0m\u001b[0;34m(\u001b[0m\u001b[0mEPOCHS\u001b[0m\u001b[0;34m)\u001b[0m\u001b[0;34m:\u001b[0m\u001b[0;34m\u001b[0m\u001b[0;34m\u001b[0m\u001b[0m\n\u001b[0;32m--> 177\u001b[0;31m     \u001b[0mloss_list\u001b[0m \u001b[0;34m=\u001b[0m \u001b[0mrun_epoch\u001b[0m\u001b[0;34m(\u001b[0m\u001b[0mmodel\u001b[0m\u001b[0;34m,\u001b[0m \u001b[0moptimizer\u001b[0m\u001b[0;34m,\u001b[0m \u001b[0msource_loader\u001b[0m\u001b[0;34m,\u001b[0m \u001b[0mtarget_loader\u001b[0m\u001b[0;34m,\u001b[0m \u001b[0mgrid_size\u001b[0m\u001b[0;34m)\u001b[0m\u001b[0;34m\u001b[0m\u001b[0;34m\u001b[0m\u001b[0m\n\u001b[0m\u001b[1;32m    178\u001b[0m     \u001b[0mavg_epoch_loss\u001b[0m \u001b[0;34m=\u001b[0m \u001b[0msum\u001b[0m\u001b[0;34m(\u001b[0m\u001b[0mloss_list\u001b[0m\u001b[0;34m)\u001b[0m \u001b[0;34m/\u001b[0m \u001b[0mlen\u001b[0m\u001b[0;34m(\u001b[0m\u001b[0mloss_list\u001b[0m\u001b[0;34m)\u001b[0m\u001b[0;34m\u001b[0m\u001b[0;34m\u001b[0m\u001b[0m\n\u001b[1;32m    179\u001b[0m     \u001b[0mepoch_loss\u001b[0m\u001b[0;34m.\u001b[0m\u001b[0mappend\u001b[0m\u001b[0;34m(\u001b[0m\u001b[0mavg_epoch_loss\u001b[0m\u001b[0;34m)\u001b[0m\u001b[0;34m\u001b[0m\u001b[0;34m\u001b[0m\u001b[0m\n",
            "\u001b[0;32m<ipython-input-83-039d5ec3d185>\u001b[0m in \u001b[0;36mrun_epoch\u001b[0;34m(model, optimizer, source_loader, target_loader, grid_size)\u001b[0m\n\u001b[1;32m    163\u001b[0m     \u001b[0mTarget_estimate\u001b[0m \u001b[0;34m=\u001b[0m \u001b[0mTarget_estimate\u001b[0m\u001b[0;34m.\u001b[0m\u001b[0msqueeze\u001b[0m\u001b[0;34m(\u001b[0m\u001b[0mdim\u001b[0m\u001b[0;34m=\u001b[0m\u001b[0;36m1\u001b[0m\u001b[0;34m)\u001b[0m\u001b[0;34m\u001b[0m\u001b[0;34m\u001b[0m\u001b[0m\n\u001b[1;32m    164\u001b[0m     \u001b[0mTotal_loss\u001b[0m \u001b[0;34m=\u001b[0m \u001b[0mTotal_Loss\u001b[0m\u001b[0;34m(\u001b[0m\u001b[0mtarget_image\u001b[0m\u001b[0;34m,\u001b[0m \u001b[0mTarget_estimate\u001b[0m\u001b[0;34m,\u001b[0m \u001b[0moutput_grid\u001b[0m\u001b[0;34m,\u001b[0m \u001b[0mgrid_size\u001b[0m\u001b[0;34m,\u001b[0m \u001b[0;36m1e-5\u001b[0m\u001b[0;34m)\u001b[0m\u001b[0;34m\u001b[0m\u001b[0;34m\u001b[0m\u001b[0m\n\u001b[0;32m--> 165\u001b[0;31m     \u001b[0mTotal_loss\u001b[0m\u001b[0;34m.\u001b[0m\u001b[0mbackward\u001b[0m\u001b[0;34m(\u001b[0m\u001b[0;34m)\u001b[0m\u001b[0;34m\u001b[0m\u001b[0;34m\u001b[0m\u001b[0m\n\u001b[0m\u001b[1;32m    166\u001b[0m     \u001b[0moptimizer\u001b[0m\u001b[0;34m.\u001b[0m\u001b[0mstep\u001b[0m\u001b[0;34m(\u001b[0m\u001b[0;34m)\u001b[0m\u001b[0;34m\u001b[0m\u001b[0;34m\u001b[0m\u001b[0m\n\u001b[1;32m    167\u001b[0m     \u001b[0mLoss_list\u001b[0m\u001b[0;34m.\u001b[0m\u001b[0mappend\u001b[0m\u001b[0;34m(\u001b[0m\u001b[0mTotal_loss\u001b[0m\u001b[0;34m)\u001b[0m\u001b[0;34m\u001b[0m\u001b[0;34m\u001b[0m\u001b[0m\n",
            "\u001b[0;32m/usr/local/lib/python3.7/dist-packages/torch/_tensor.py\u001b[0m in \u001b[0;36mbackward\u001b[0;34m(self, gradient, retain_graph, create_graph, inputs)\u001b[0m\n\u001b[1;32m    253\u001b[0m                 \u001b[0mcreate_graph\u001b[0m\u001b[0;34m=\u001b[0m\u001b[0mcreate_graph\u001b[0m\u001b[0;34m,\u001b[0m\u001b[0;34m\u001b[0m\u001b[0;34m\u001b[0m\u001b[0m\n\u001b[1;32m    254\u001b[0m                 inputs=inputs)\n\u001b[0;32m--> 255\u001b[0;31m         \u001b[0mtorch\u001b[0m\u001b[0;34m.\u001b[0m\u001b[0mautograd\u001b[0m\u001b[0;34m.\u001b[0m\u001b[0mbackward\u001b[0m\u001b[0;34m(\u001b[0m\u001b[0mself\u001b[0m\u001b[0;34m,\u001b[0m \u001b[0mgradient\u001b[0m\u001b[0;34m,\u001b[0m \u001b[0mretain_graph\u001b[0m\u001b[0;34m,\u001b[0m \u001b[0mcreate_graph\u001b[0m\u001b[0;34m,\u001b[0m \u001b[0minputs\u001b[0m\u001b[0;34m=\u001b[0m\u001b[0minputs\u001b[0m\u001b[0;34m)\u001b[0m\u001b[0;34m\u001b[0m\u001b[0;34m\u001b[0m\u001b[0m\n\u001b[0m\u001b[1;32m    256\u001b[0m \u001b[0;34m\u001b[0m\u001b[0m\n\u001b[1;32m    257\u001b[0m     \u001b[0;32mdef\u001b[0m \u001b[0mregister_hook\u001b[0m\u001b[0;34m(\u001b[0m\u001b[0mself\u001b[0m\u001b[0;34m,\u001b[0m \u001b[0mhook\u001b[0m\u001b[0;34m)\u001b[0m\u001b[0;34m:\u001b[0m\u001b[0;34m\u001b[0m\u001b[0;34m\u001b[0m\u001b[0m\n",
            "\u001b[0;32m/usr/local/lib/python3.7/dist-packages/torch/autograd/__init__.py\u001b[0m in \u001b[0;36mbackward\u001b[0;34m(tensors, grad_tensors, retain_graph, create_graph, grad_variables, inputs)\u001b[0m\n\u001b[1;32m    147\u001b[0m     Variable._execution_engine.run_backward(\n\u001b[1;32m    148\u001b[0m         \u001b[0mtensors\u001b[0m\u001b[0;34m,\u001b[0m \u001b[0mgrad_tensors_\u001b[0m\u001b[0;34m,\u001b[0m \u001b[0mretain_graph\u001b[0m\u001b[0;34m,\u001b[0m \u001b[0mcreate_graph\u001b[0m\u001b[0;34m,\u001b[0m \u001b[0minputs\u001b[0m\u001b[0;34m,\u001b[0m\u001b[0;34m\u001b[0m\u001b[0;34m\u001b[0m\u001b[0m\n\u001b[0;32m--> 149\u001b[0;31m         allow_unreachable=True, accumulate_grad=True)  # allow_unreachable flag\n\u001b[0m\u001b[1;32m    150\u001b[0m \u001b[0;34m\u001b[0m\u001b[0m\n\u001b[1;32m    151\u001b[0m \u001b[0;34m\u001b[0m\u001b[0m\n",
            "\u001b[0;31mKeyboardInterrupt\u001b[0m: "
          ]
        }
      ]
    },
    {
      "cell_type": "code",
      "metadata": {
        "colab": {
          "base_uri": "https://localhost:8080/",
          "height": 1000
        },
        "id": "F7acWDRpdz77",
        "outputId": "307a234c-bba1-4f39-83c9-da5013563092"
      },
      "source": [
        "validate(model,valid_loader_source, valid_loader_target, GRID_SIZE, visualize=True, get_loss=True)"
      ],
      "execution_count": null,
      "outputs": [
        {
          "output_type": "stream",
          "text": [
            "/usr/local/lib/python3.7/dist-packages/ipykernel_launcher.py:246: UserWarning: To copy construct from a tensor, it is recommended to use sourceTensor.clone().detach() or sourceTensor.clone().detach().requires_grad_(True), rather than torch.tensor(sourceTensor).\n",
            "/usr/local/lib/python3.7/dist-packages/ipykernel_launcher.py:247: UserWarning: To copy construct from a tensor, it is recommended to use sourceTensor.clone().detach() or sourceTensor.clone().detach().requires_grad_(True), rather than torch.tensor(sourceTensor).\n",
            "/usr/local/lib/python3.7/dist-packages/torch/nn/functional.py:3613: UserWarning: Default upsampling behavior when mode=bilinear is changed to align_corners=False since 0.4.0. Please specify align_corners=True if the old behavior is desired. See the documentation of nn.Upsample for details.\n",
            "  \"See the documentation of nn.Upsample for details.\".format(mode)\n",
            "/usr/local/lib/python3.7/dist-packages/torch/nn/functional.py:3982: UserWarning: Default grid_sample and affine_grid behavior has changed to align_corners=False since 1.3.0. Please specify align_corners=True if the old behavior is desired. See the documentation of grid_sample for details.\n",
            "  \"Default grid_sample and affine_grid behavior has changed \"\n",
            "/usr/local/lib/python3.7/dist-packages/torch/nn/modules/loss.py:97: UserWarning: Using a target size (torch.Size([1, 8, 8])) that is different to the input size (torch.Size([10, 8, 8])). This will likely lead to incorrect results due to broadcasting. Please ensure they have the same size.\n",
            "  return F.l1_loss(input, target, reduction=self.reduction)\n"
          ],
          "name": "stderr"
        },
        {
          "output_type": "stream",
          "text": [
            "Average Loss: 0.0961790531873703\n"
          ],
          "name": "stdout"
        },
        {
          "output_type": "display_data",
          "data": {
            "image/png": "[encoded data removed]",
            "text/plain": [
              "<Figure size 1440x1440 with 30 Axes>"
            ]
          },
          "metadata": {
            "needs_background": "light"
          }
        }
      ]
    },
    {
      "cell_type": "code",
      "metadata": {
        "id": "ZH5rfpkjd86B",
        "colab": {
          "base_uri": "https://localhost:8080/"
        },
        "outputId": "09616cc2-0506-46ec-e811-752d6c473d5d"
      },
      "source": [
        "summary(model, (2, 128, 128))"
      ],
      "execution_count": null,
      "outputs": [
        {
          "output_type": "stream",
          "text": [
            "----------------------------------------------------------------\n",
            "        Layer (type)               Output Shape         Param #\n",
            "================================================================\n",
            "         MaxPool2d-1            [-1, 2, 64, 64]               0\n",
            "            Conv2d-2           [-1, 20, 60, 60]           1,020\n",
            "              ReLU-3           [-1, 20, 60, 60]               0\n",
            "         MaxPool2d-4           [-1, 20, 30, 30]               0\n",
            "            Conv2d-5           [-1, 20, 26, 26]          10,020\n",
            "              ReLU-6           [-1, 20, 26, 26]               0\n",
            "         MaxPool2d-7           [-1, 20, 13, 13]               0\n",
            "            Conv2d-8           [-1, 20, 12, 12]           1,620\n",
            "              ReLU-9           [-1, 20, 12, 12]               0\n",
            "        MaxPool2d-10             [-1, 20, 6, 6]               0\n",
            "           Conv2d-11             [-1, 20, 2, 2]          10,020\n",
            "             ReLU-12             [-1, 20, 2, 2]               0\n",
            "          Flatten-13                   [-1, 80]               0\n",
            "           Linear-14                   [-1, 20]           1,620\n",
            "             ReLU-15                   [-1, 20]               0\n",
            "           Linear-16                  [-1, 128]           2,688\n",
            "================================================================\n",
            "Total params: 26,988\n",
            "Trainable params: 26,988\n",
            "Non-trainable params: 0\n",
            "----------------------------------------------------------------\n",
            "Input size (MB): 0.12\n",
            "Forward/backward pass size (MB): 1.58\n",
            "Params size (MB): 0.10\n",
            "Estimated Total Size (MB): 1.81\n",
            "----------------------------------------------------------------\n"
          ],
          "name": "stdout"
        }
      ]
    },
    {
      "cell_type": "code",
      "metadata": {
        "colab": {
          "base_uri": "https://localhost:8080/"
        },
        "id": "clkJZz0hd9uZ",
        "outputId": "b3b89ba4-f19d-48ee-fd6f-020f9e7f01b7"
      },
      "source": [
        "#save the current model\n",
        "from google.colab import drive\n",
        "drive.mount('/content/gdrive')\n",
        "modelname = 'ALIGNet_model'\n",
        "path = '{modelname}'\n",
        "torch.save(model.state_dict(), 'ALIGNet_model')"
      ],
      "execution_count": null,
      "outputs": [
        {
          "output_type": "stream",
          "text": [
            "Drive already mounted at /content/gdrive; to attempt to forcibly remount, call drive.mount(\"/content/gdrive\", force_remount=True).\n"
          ],
          "name": "stdout"
        }
      ]
    },
    {
      "cell_type": "code",
      "metadata": {
        "id": "7pk1PCELd-pJ"
      },
      "source": [
        "#perform cumsum operation on a 2d batch of inputs\n",
        "#takes in grid tensors of shape batch x 2 x grid x grid \n",
        "#return grid tensors of shape batch x 2 x grid x grid \n",
        "def cumsum(grid):\n",
        "\n",
        "  Integrated_grid_x = torch.cumsum(grid[:,0], dim = 2)\n",
        "  Integrated_grid_y = torch.cumsum(grid[:,1], dim = 1)\n",
        "  Integrated_grid = torch.stack([Integrated_grid_x, Integrated_grid_y])\n",
        "  return Integrated_grid\n",
        "\n",
        "grid = np.ones([8,2,8,8])\n",
        "grid = torch.tensor(grid)\n",
        "print(cumsum(grid))"
      ],
      "execution_count": null,
      "outputs": []
    },
    {
      "cell_type": "code",
      "metadata": {
        "colab": {
          "base_uri": "https://localhost:8080/"
        },
        "id": "qP3e50JRd_nx",
        "outputId": "47b9222f-43a5-4859-8e99-72fb091dd4e3"
      },
      "source": [
        "ls\n"
      ],
      "execution_count": null,
      "outputs": [
        {
          "output_type": "stream",
          "text": [
            "ALIGNet_model  \u001b[0m\u001b[01;34mdata\u001b[0m/     \u001b[01;34mhome\u001b[0m/   \u001b[01;34mmedia\u001b[0m/  \u001b[01;34mroot\u001b[0m/  \u001b[01;34msys\u001b[0m/                \u001b[01;34musr\u001b[0m/\n",
            "\u001b[01;34mbin\u001b[0m/           \u001b[01;34mdatalab\u001b[0m/  \u001b[01;34mlib\u001b[0m/    \u001b[01;34mmnt\u001b[0m/    \u001b[01;34mrun\u001b[0m/   \u001b[01;34mtensorflow-1.15.2\u001b[0m/  \u001b[01;34mvar\u001b[0m/\n",
            "\u001b[01;34mboot\u001b[0m/          \u001b[01;34mdev\u001b[0m/      \u001b[01;34mlib32\u001b[0m/  \u001b[01;34mopt\u001b[0m/    \u001b[01;34msbin\u001b[0m/  \u001b[30;42mtmp\u001b[0m/\n",
            "\u001b[01;34mcontent\u001b[0m/       \u001b[01;34metc\u001b[0m/      \u001b[01;34mlib64\u001b[0m/  \u001b[01;34mproc\u001b[0m/   \u001b[01;34msrv\u001b[0m/   \u001b[01;34mtools\u001b[0m/\n"
          ],
          "name": "stdout"
        }
      ]
    },
    {
      "cell_type": "code",
      "metadata": {
        "colab": {
          "base_uri": "https://localhost:8080/"
        },
        "id": "jQFz4hTEeK3D",
        "outputId": "895830cc-84ff-44f6-811c-2765a9834d31"
      },
      "source": [
        "ls"
      ],
      "execution_count": null,
      "outputs": [
        {
          "output_type": "stream",
          "text": [
            "\u001b[0m\u001b[01;34mbin\u001b[0m/      \u001b[01;34mdatalab\u001b[0m/  \u001b[01;34mlib\u001b[0m/    \u001b[01;34mmnt\u001b[0m/   \u001b[01;34mrun\u001b[0m/   \u001b[01;34mtensorflow-1.15.2\u001b[0m/  \u001b[01;34mvar\u001b[0m/\n",
            "\u001b[01;34mboot\u001b[0m/     \u001b[01;34mdev\u001b[0m/      \u001b[01;34mlib32\u001b[0m/  \u001b[01;34mopt\u001b[0m/   \u001b[01;34msbin\u001b[0m/  \u001b[30;42mtmp\u001b[0m/\n",
            "\u001b[01;34mcontent\u001b[0m/  \u001b[01;34metc\u001b[0m/      \u001b[01;34mlib64\u001b[0m/  \u001b[01;34mproc\u001b[0m/  \u001b[01;34msrv\u001b[0m/   \u001b[01;34mtools\u001b[0m/\n",
            "\u001b[01;34mdata\u001b[0m/     \u001b[01;34mhome\u001b[0m/     \u001b[01;34mmedia\u001b[0m/  \u001b[01;34mroot\u001b[0m/  \u001b[01;34msys\u001b[0m/   \u001b[01;34musr\u001b[0m/\n"
          ],
          "name": "stdout"
        }
      ]
    },
    {
      "cell_type": "code",
      "metadata": {
        "id": "fCVQITIWeMTk",
        "colab": {
          "base_uri": "https://localhost:8080/"
        },
        "outputId": "7946ae6b-a52c-4acc-fd7d-59e70df1ceab"
      },
      "source": [
        "cd drive"
      ],
      "execution_count": null,
      "outputs": [
        {
          "output_type": "stream",
          "text": [
            "[Errno 2] No such file or directory: 'drive'\n",
            "/\n"
          ],
          "name": "stdout"
        }
      ]
    },
    {
      "cell_type": "code",
      "metadata": {
        "id": "bOGVTVP9VfbQ"
      },
      "source": [
        ""
      ],
      "execution_count": null,
      "outputs": []
    }
  ]
}